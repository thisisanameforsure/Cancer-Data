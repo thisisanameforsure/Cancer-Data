{
 "cells": [
  {
   "cell_type": "markdown",
   "metadata": {},
   "source": [
    "# Predictive Modeling on Cancer Data"
   ]
  },
  {
   "cell_type": "code",
   "execution_count": 1,
   "metadata": {
    "collapsed": true
   },
   "outputs": [],
   "source": [
    "import numpy as np \n",
    "import pandas as pd \n",
    "import matplotlib.pyplot as plt "
   ]
  },
  {
   "cell_type": "code",
   "execution_count": 30,
   "metadata": {
    "collapsed": true
   },
   "outputs": [],
   "source": [
    "cancer = pd.read_csv(\"Breast Invasive Carcinoma (TCGA, Provisional).csv\")"
   ]
  },
  {
   "cell_type": "code",
   "execution_count": 31,
   "metadata": {
    "collapsed": true
   },
   "outputs": [],
   "source": [
    "target_threshold = 32\n",
    "cancer[\"survival\"] = \"\""
   ]
  },
  {
   "cell_type": "code",
   "execution_count": 32,
   "metadata": {
    "collapsed": true
   },
   "outputs": [],
   "source": [
    "def setup_target_variable(df, target_column, new_column, threshold):\n",
    "    '''Changes the target variable values based on the threshold'''\n",
    "\n",
    "    df.loc[df[target_column].values > threshold, new_column] = 1    # 1 - above the threshold\n",
    "    df.loc[df[target_column].values <= threshold, new_column] = 0   # 0 - below the threshold\n",
    "\n",
    "    return df "
   ]
  },
  {
   "cell_type": "code",
   "execution_count": 33,
   "metadata": {
    "collapsed": false
   },
   "outputs": [],
   "source": [
    "cancer = setup_target_variable(cancer, 'OS MONTHS', 'survival', target_threshold)"
   ]
  },
  {
   "cell_type": "code",
   "execution_count": 34,
   "metadata": {
    "collapsed": false
   },
   "outputs": [
    {
     "name": "stdout",
     "output_type": "stream",
     "text": [
      "[0 1 '']\n"
     ]
    }
   ],
   "source": [
    "print np.unique(cancer.survival)"
   ]
  },
  {
   "cell_type": "code",
   "execution_count": 35,
   "metadata": {
    "collapsed": true
   },
   "outputs": [],
   "source": [
    "features_chosen_by_domain_knowledge = ['AGE', 'AJCC METASTASIS PATHOLOGIC PM', 'AJCC NODES PATHOLOGIC PN', 'AJCC PATHOLOGIC TUMOR STAGE', 'AJCC TUMOR PATHOLOGIC PT', 'ETHNICITY', 'GENDER', 'HISTORY NEOADJUVANT TRTYN', 'HISTORY OTHER MALIGNANCY', 'ICD 10', 'ICD O 3 HISTOLOGY', 'ICD O 3 SITE']\n",
    "#cancer = cancer[features_chosen_by_domain_knowledge]"
   ]
  },
  {
   "cell_type": "code",
   "execution_count": 36,
   "metadata": {
    "collapsed": true
   },
   "outputs": [],
   "source": [
    "def convert_categorical_to_int(df, column_name):\n",
    "\t'''Convert categorical values into integers'''\t\n",
    "\n",
    "\tcategorical_values = df[column_name].value_counts().index.tolist()\n",
    "\tassigned_value = 0\n",
    "\tfor value in categorical_values:\n",
    "\t\tdf.loc[df[column_name] == value, column_name] = assigned_value\n",
    "\t\tassigned_value += 1\n",
    "\n",
    "\treturn df\n",
    "\n",
    "def handle_categorical_variables(df, list_of_columns):\n",
    "    '''Converts the categorical variables in the list of columns to integers'''\n",
    "    \n",
    "    for column in list_of_columns:\n",
    "        df = convert_categorical_to_int(df, column)\n",
    "    \n",
    "    return df"
   ]
  },
  {
   "cell_type": "code",
   "execution_count": 37,
   "metadata": {
    "collapsed": false
   },
   "outputs": [],
   "source": [
    "\n",
    "cancer = handle_categorical_variables(cancer, ['AJCC METASTASIS PATHOLOGIC PM', 'AJCC NODES PATHOLOGIC PN', 'AJCC PATHOLOGIC TUMOR STAGE', 'AJCC TUMOR PATHOLOGIC PT', 'ETHNICITY', 'GENDER', 'HISTORY NEOADJUVANT TRTYN', 'HISTORY OTHER MALIGNANCY', 'ICD 10', 'ICD O 3 HISTOLOGY', 'ICD O 3 SITE'])\n"
   ]
  },
  {
   "cell_type": "code",
   "execution_count": 38,
   "metadata": {
    "collapsed": false
   },
   "outputs": [
    {
     "name": "stdout",
     "output_type": "stream",
     "text": [
      "[0 1 '']\n"
     ]
    }
   ],
   "source": [
    "print np.unique(cancer.survival)"
   ]
  },
  {
   "cell_type": "code",
   "execution_count": 39,
   "metadata": {
    "collapsed": true
   },
   "outputs": [],
   "source": [
    "def handle_na(df):\n",
    "    '''Handle the NaN fields'''\n",
    "\n",
    "    df['AGE'].fillna(df['AGE'].mean, inplace = True)\n",
    "    df['AJCC METASTASIS PATHOLOGIC PM'].fillna(df['AJCC METASTASIS PATHOLOGIC PM'].value_counts()[0], inplace = True)\n",
    "    df['AJCC NODES PATHOLOGIC PN'].fillna(df['AJCC NODES PATHOLOGIC PN'].value_counts()[0], inplace = True)\n",
    "    df['AJCC PATHOLOGIC TUMOR STAGE'].fillna(df['AJCC PATHOLOGIC TUMOR STAGE'].value_counts()[0], inplace = True)\n",
    "    df['AJCC TUMOR PATHOLOGIC PT'].fillna(df['AJCC TUMOR PATHOLOGIC PT'].value_counts()[0], inplace = True)\n",
    "    df['ETHNICITY'].fillna(df['ETHNICITY'].value_counts()[0], inplace = True)\n",
    "    df['GENDER'].fillna(df['GENDER'].value_counts()[0], inplace = True)\n",
    "    df['HISTORY NEOADJUVANT TRTYN'].fillna(df['HISTORY NEOADJUVANT TRTYN'].value_counts()[0], inplace = True)\n",
    "    df['HISTORY OTHER MALIGNANCY'].fillna(df['HISTORY OTHER MALIGNANCY'].value_counts()[0], inplace = True)\n",
    "    df['ICD 10'].fillna(df['ICD 10'].value_counts()[0], inplace = True)\n",
    "    df['ICD O 3 HISTOLOGY'].fillna(df['ICD O 3 HISTOLOGY'].value_counts()[0], inplace = True)\n",
    "    df['ICD O 3 SITE'].fillna(df['ICD O 3 SITE'].value_counts()[0], inplace = True)\n",
    "    \n",
    "    return df "
   ]
  },
  {
   "cell_type": "code",
   "execution_count": 40,
   "metadata": {
    "collapsed": false
   },
   "outputs": [
    {
     "name": "stdout",
     "output_type": "stream",
     "text": [
      "[0 1 '']\n"
     ]
    }
   ],
   "source": [
    "print np.unique(cancer.survival)"
   ]
  },
  {
   "cell_type": "code",
   "execution_count": 41,
   "metadata": {
    "collapsed": false
   },
   "outputs": [
    {
     "name": "stdout",
     "output_type": "stream",
     "text": [
      "Shape(Before removing NaN):  (1105, 59)\n",
      "Shape(After removing NaN):  (1006, 59)\n"
     ]
    }
   ],
   "source": [
    "cancer = handle_na(cancer)\n",
    "\n",
    "print \"Shape(Before removing NaN): \", cancer.shape\n",
    "cancer_without_nan = cancer.dropna(subset = ['OS MONTHS'])\n",
    "print \"Shape(After removing NaN): \", cancer_without_nan.shape\n",
    "\n",
    "#cancer_without_nan = cancer_without_nan.convert_objects(convert_dates=False, convert_numeric=True, convert_timedeltas=False, copy=True)"
   ]
  },
  {
   "cell_type": "code",
   "execution_count": 18,
   "metadata": {
    "collapsed": false
   },
   "outputs": [
    {
     "data": {
      "text/plain": [
       "0"
      ]
     },
     "execution_count": 18,
     "metadata": {},
     "output_type": "execute_result"
    }
   ],
   "source": [
    "sum(cancer['AGE'].isnull())"
   ]
  },
  {
   "cell_type": "code",
   "execution_count": 19,
   "metadata": {
    "collapsed": false
   },
   "outputs": [
    {
     "data": {
      "text/plain": [
       "array([0, 1], dtype=object)"
      ]
     },
     "execution_count": 19,
     "metadata": {},
     "output_type": "execute_result"
    }
   ],
   "source": [
    "np.unique(cancer_without_nan.survival)"
   ]
  },
  {
   "cell_type": "code",
   "execution_count": 72,
   "metadata": {
    "collapsed": true
   },
   "outputs": [],
   "source": [
    "from sklearn.tree import DecisionTreeClassifier\n",
    "from sklearn.linear_model import LogisticRegression\n",
    "from sklearn.svm import SVC\n",
    "from sklearn.ensemble import RandomForestClassifier\n",
    "from sklearn.cross_validation import cross_val_score, train_test_split\n",
    "from sklearn.metrics import roc_auc_score\n",
    "from sklearn import grid_search"
   ]
  },
  {
   "cell_type": "code",
   "execution_count": 43,
   "metadata": {
    "collapsed": false
   },
   "outputs": [],
   "source": [
    "def decision_tree_model_with_cv(features_list, training_data, target_data, k, hyperparam = None):\n",
    "    if hyperparam != None: \n",
    "        decision_tree = DecisionTreeClassifier(criterion = 'entropy')\n",
    "    else:\n",
    "        decision_tree = DecisionTreeClassifier(criterion = 'entropy', max_depth = hyperparam.get_max_depth(), max_features = hyperparam.get_max_features(), min_samples_split = hyperparam.get_min_samples_split(), min_samples_leaf = hyperparam.get_min_samples_leaf())\n",
    "    \n",
    "    cv_score = cross_val_score(decision_tree, training_data[features_list], target_data.astype(int), scoring = 'roc_auc', cv=k)\n",
    "    \n",
    "    return cv_score.mean()"
   ]
  },
  {
   "cell_type": "code",
   "execution_count": 53,
   "metadata": {
    "collapsed": true
   },
   "outputs": [],
   "source": [
    "def logistic_regression_model_with_cv(features_list, training_data, target_data, k):\n",
    "    lr = LogisticRegression()\n",
    "    cv_score = cross_val_score(lr, training_data[features_list], target_data.astype(int), scoring = 'roc_auc', cv=k)\n",
    "    \n",
    "    return cv_score.mean()"
   ]
  },
  {
   "cell_type": "code",
   "execution_count": 54,
   "metadata": {
    "collapsed": true
   },
   "outputs": [],
   "source": [
    "def svm_model_with_cv(features_list, training_data, target_data, k):\n",
    "    svm = SVC()\n",
    "    cv_score = cross_val_score(svm, training_data[features_list], target_data.astype(int), scoring = 'roc_auc', cv=k)\n",
    "    \n",
    "    return cv_score.mean()"
   ]
  },
  {
   "cell_type": "code",
   "execution_count": 62,
   "metadata": {
    "collapsed": true
   },
   "outputs": [],
   "source": [
    "def rf_model_with_cv(features_list, training_data, target_data, k):\n",
    "    rf = RandomForestClassifier()\n",
    "    cv_score = cross_val_score(rf, training_data[features_list], target_data.astype(int), scoring = 'roc_auc', cv=k)\n",
    "    \n",
    "    return cv_score.mean()"
   ]
  },
  {
   "cell_type": "code",
   "execution_count": 22,
   "metadata": {
    "collapsed": false
   },
   "outputs": [
    {
     "name": "stdout",
     "output_type": "stream",
     "text": [
      "[0 1]\n"
     ]
    }
   ],
   "source": [
    "tmp = np.asarray(cancer_without_nan.survival, dtype=np.int32)\n",
    "print(np.unique(tmp))"
   ]
  },
  {
   "cell_type": "code",
   "execution_count": 56,
   "metadata": {
    "collapsed": false
   },
   "outputs": [
    {
     "name": "stdout",
     "output_type": "stream",
     "text": [
      "Decision Tree\n",
      "JUST STAGE:  0.584231999857\n",
      "JUST PATHOLOGY:  0.585712693721\n",
      "BOTH:  0.628490190339\n",
      "Logistic Regression\n",
      "JUST STAGE:  0.507652984085\n",
      "JUST PATHOLOGY:  0.610215870633\n",
      "BOTH:  0.605308619632\n",
      "SVM\n",
      "JUST STAGE:  0.581783792721\n",
      "JUST PATHOLOGY:  0.599520837802\n",
      "BOTH:  0.581260445714\n"
     ]
    }
   ],
   "source": [
    "# From domain knowledge, TUMOR_STAGE is arrived at by considering AJCC METASTASIS PATHOLOGIC PM, AJCC NODES PATHOLOGIC PN and AJCC TUMOR PATHOLOGIC PT\n",
    "\n",
    "just_stage = [\"AJCC PATHOLOGIC TUMOR STAGE\"]\n",
    "just_pathology = ['AJCC METASTASIS PATHOLOGIC PM', 'AJCC NODES PATHOLOGIC PN', 'AJCC TUMOR PATHOLOGIC PT']\n",
    "\n",
    "# Decision Tree\n",
    "dt_cv_auc_just_stage = decision_tree_model_with_cv(just_stage, cancer_without_nan.drop('survival', 1), cancer_without_nan.survival, 10)\n",
    "dt_cv_auc_just_pathology = decision_tree_model_with_cv(just_pathology, cancer_without_nan.drop('survival', 1), cancer_without_nan.survival, 10)\n",
    "dt_cv_auc_both = decision_tree_model_with_cv(just_stage + just_pathology, cancer_without_nan.drop('survival', 1), cancer_without_nan.survival, 10)\n",
    "\n",
    "print \"Decision Tree\"\n",
    "print \"JUST STAGE: \", dt_cv_auc_just_stage\n",
    "print \"JUST PATHOLOGY: \", dt_cv_auc_just_pathology\n",
    "print \"BOTH: \", dt_cv_auc_both\n",
    "\n",
    "# Logistic Regression\n",
    "lr_cv_auc_just_stage = logistic_regression_model_with_cv(just_stage, cancer_without_nan.drop('survival', 1), cancer_without_nan.survival, 10)\n",
    "lr_cv_auc_just_pathology = logistic_regression_model_with_cv(just_pathology, cancer_without_nan.drop('survival', 1), cancer_without_nan.survival, 10)\n",
    "lr_cv_auc_both = logistic_regression_model_with_cv(just_stage + just_pathology, cancer_without_nan.drop('survival', 1), cancer_without_nan.survival, 10)\n",
    "\n",
    "print \"Logistic Regression\"\n",
    "print \"JUST STAGE: \", lr_cv_auc_just_stage\n",
    "print \"JUST PATHOLOGY: \", lr_cv_auc_just_pathology\n",
    "print \"BOTH: \", lr_cv_auc_both\n",
    "\n",
    "# SVM\n",
    "svm_cv_auc_just_stage = svm_model_with_cv(just_stage, cancer_without_nan.drop('survival', 1), cancer_without_nan.survival, 10)\n",
    "svm_cv_auc_just_pathology = svm_model_with_cv(just_pathology, cancer_without_nan.drop('survival', 1), cancer_without_nan.survival, 10)\n",
    "svm_cv_auc_both = svm_model_with_cv(just_stage + just_pathology, cancer_without_nan.drop('survival', 1), cancer_without_nan.survival, 10)\n",
    "\n",
    "print \"SVM\"\n",
    "print \"JUST STAGE: \", svm_cv_auc_just_stage\n",
    "print \"JUST PATHOLOGY: \", svm_cv_auc_just_pathology\n",
    "print \"BOTH: \", svm_cv_auc_both"
   ]
  },
  {
   "cell_type": "markdown",
   "metadata": {
    "collapsed": true
   },
   "source": [
    "Note about the above observation: \n",
    "The results are consistent with the domain knowledge where the Stage is defined by the  combination of the three columns. The AUC of using either the stage or the the pathology features give almost the same value which is around 58%. But, using both improves the AUC by 4%. This can be attributed to the fact that every stage has multiple combinations of pathology columns. So, the combination is more specific. Hence, the improvement."
   ]
  },
  {
   "cell_type": "code",
   "execution_count": 57,
   "metadata": {
    "collapsed": false
   },
   "outputs": [
    {
     "data": {
      "text/plain": [
       "12"
      ]
     },
     "execution_count": 57,
     "metadata": {},
     "output_type": "execute_result"
    }
   ],
   "source": [
    "len(features_chosen_by_domain_knowledge)"
   ]
  },
  {
   "cell_type": "code",
   "execution_count": 63,
   "metadata": {
    "collapsed": false
   },
   "outputs": [
    {
     "name": "stdout",
     "output_type": "stream",
     "text": [
      "AUC\n",
      "Decision Tree (10-Fold CV):  0.562422988465\n",
      "Logistic Regression (10-Fold CV):  0.544588375578\n",
      "SVM (10-Fold CV):  0.520379698895\n",
      "Random Forest (10-Fold CV):  0.569535020512\n"
     ]
    }
   ],
   "source": [
    "dt_auc_with_cv = decision_tree_model_with_cv(features_chosen_by_domain_knowledge, cancer_without_nan.drop('survival', 1), cancer_without_nan.survival, 10)\n",
    "lr_auc_with_cv = logistic_regression_model_with_cv(features_chosen_by_domain_knowledge, cancer_without_nan.drop('survival', 1), cancer_without_nan.survival, 10)\n",
    "svm_auc_with_cv = svm_model_with_cv(features_chosen_by_domain_knowledge, cancer_without_nan.drop('survival', 1), cancer_without_nan.survival, 10)\n",
    "rf_auc_with_cv = rf_model_with_cv(features_chosen_by_domain_knowledge, cancer_without_nan.drop('survival', 1), cancer_without_nan.survival, 10)\n",
    "\n",
    "print \"AUC\"\n",
    "print \"Decision Tree (10-Fold CV): \", dt_auc_with_cv\n",
    "print \"Logistic Regression (10-Fold CV): \", lr_auc_with_cv\n",
    "print \"SVM (10-Fold CV): \", svm_auc_with_cv\n",
    "print \"Random Forest (10-Fold CV): \", rf_auc_with_cv"
   ]
  },
  {
   "cell_type": "code",
   "execution_count": 13,
   "metadata": {
    "collapsed": true
   },
   "outputs": [],
   "source": [
    "# Decision Tree Model Hyperparameters\n",
    "class DT_HyperParam:\n",
    "    \n",
    "    def __init__(self, max_depth, min_samples_split, min_samples_leaf, max_features):\n",
    "        self.max_depth = max_depth\n",
    "        self.min_samples_split = min_samples_split\n",
    "        self.min_samples_leaf = min_samples_leaf\n",
    "        self.max_features = max_features\n",
    "        \n",
    "    def get_max_depth(self):\n",
    "        return self.max_depth\n",
    "    \n",
    "    def get_min_samples_split(self):\n",
    "        return self.min_samples_split\n",
    "    \n",
    "    def get_min_samples_leaf(self):\n",
    "        return self.min_samples_leaf\n",
    "    \n",
    "    def get_max_features(self):\n",
    "        return self.max_features"
   ]
  },
  {
   "cell_type": "code",
   "execution_count": 50,
   "metadata": {
    "collapsed": false
   },
   "outputs": [],
   "source": [
    "import matplotlib.pyplot as plt\n",
    "%matplotlib inline"
   ]
  },
  {
   "cell_type": "code",
   "execution_count": 79,
   "metadata": {
    "collapsed": true
   },
   "outputs": [],
   "source": [
    "# Setting up the data for finding optimal hyperparameters\n",
    "\n",
    "\n",
    "final_features = features_chosen_by_domain_knowledge + ['survival']\n",
    "\n",
    "cancer_without_nan = cancer_without_nan[final_features]\n",
    "\n",
    "rows = cancer_without_nan.shape[0]\n",
    "\n",
    "training = cancer_without_nan.ix[ : 0.8 * rows, :]\n",
    "testing = cancer_without_nan.ix[0.8 * rows: , :]\n",
    "\n",
    "cancer_training = training.drop('survival', 1)\n",
    "cancer_testing = testing.drop('survival', 1)\n",
    "survival_training = training['survival']\n",
    "survival_testing = testing['survival']"
   ]
  },
  {
   "cell_type": "code",
   "execution_count": 71,
   "metadata": {
    "collapsed": false
   },
   "outputs": [
    {
     "data": {
      "text/plain": [
       "<matplotlib.text.Text at 0xa45f4fec>"
      ]
     },
     "execution_count": 71,
     "metadata": {},
     "output_type": "execute_result"
    },
    {
     "data": {
      "image/png": "[encoded data removed]",
      "text/plain": [
       "<matplotlib.figure.Figure at 0xa780f92c>"
      ]
     },
     "metadata": {},
     "output_type": "display_data"
    }
   ],
   "source": [
    "# Searching optimal hyperparameters for decision tree\n",
    "\n",
    "# Using max_depth as the complexity parameter. As max_depth increases, the complexity increases\n",
    "\n",
    "max_depth_values = np.arange(1, 25)\n",
    "md_auc_scores = {}\n",
    "for md in max_depth_values:\n",
    "    dt_hyperparam = DT_HyperParam(md, 2, 1, None)\n",
    "    md_auc_scores[md] = decision_tree_model_with_cv(features_chosen_by_domain_knowledge, cancer_training, survival_training, 10, hyperparam = dt_hyperparam)\n",
    "\n",
    "plt.plot(md_auc_scores.keys(), md_auc_scores.values())\n",
    "plt.xlabel(\"Max Depth\")\n",
    "plt.ylabel(\"AUC\")\n",
    "plt.title(\"AUC vs Model Complexity\")\n",
    "\n",
    "#### FINAL CONCLUSION ####\n",
    "#### Max depth is not "
   ]
  },
  {
   "cell_type": "code",
   "execution_count": 80,
   "metadata": {
    "collapsed": false
   },
   "outputs": [
    {
     "data": {
      "text/plain": [
       "(756,)"
      ]
     },
     "execution_count": 80,
     "metadata": {},
     "output_type": "execute_result"
    }
   ],
   "source": [
    "survival_training.shape"
   ]
  },
  {
   "cell_type": "code",
   "execution_count": 86,
   "metadata": {
    "collapsed": false
   },
   "outputs": [
    {
     "name": "stdout",
     "output_type": "stream",
     "text": [
      "GridSearchCV(cv=10, error_score='raise',\n",
      "       estimator=DecisionTreeClassifier(class_weight=None, criterion='entropy', max_depth=None,\n",
      "            max_features=None, max_leaf_nodes=None, min_samples_leaf=1,\n",
      "            min_samples_split=2, min_weight_fraction_leaf=0.0,\n",
      "            random_state=None, splitter='best'),\n",
      "       fit_params={}, iid=True, loss_func=None, n_jobs=1,\n",
      "       param_grid={'min_samples_split': [2, 6], 'max_depth': [1, 100], 'min_samples_leaf': [1, 4]},\n",
      "       pre_dispatch='2*n_jobs', refit=True, score_func=None,\n",
      "       scoring='roc_auc', verbose=0)\n"
     ]
    }
   ],
   "source": [
    "# Decision Tree Grid Search\n",
    "dt_parameters = {'max_depth':[1, 100], 'min_samples_split':[2, 6], 'min_samples_leaf':[1, 4]}\n",
    "dt = DecisionTreeClassifier(criterion = \"entropy\")\n",
    "\n",
    "dt_gs = grid_search.GridSearchCV(dt, dt_parameters, scoring = 'roc_auc', cv = 10)\n",
    "dt_optimal = dt_gs.fit(cancer_training, survival_training.astype(int))\n",
    "print dt_optimal"
   ]
  },
  {
   "cell_type": "code",
   "execution_count": null,
   "metadata": {
    "collapsed": true
   },
   "outputs": [],
   "source": []
  }
 ],
 "metadata": {
  "kernelspec": {
   "display_name": "Python 2",
   "language": "python",
   "name": "python2"
  },
  "language_info": {
   "codemirror_mode": {
    "name": "ipython",
    "version": 2
   },
   "file_extension": ".py",
   "mimetype": "text/x-python",
   "name": "python",
   "nbconvert_exporter": "python",
   "pygments_lexer": "ipython2",
   "version": "2.7.10"
  }
 },
 "nbformat": 4,
 "nbformat_minor": 0
}
