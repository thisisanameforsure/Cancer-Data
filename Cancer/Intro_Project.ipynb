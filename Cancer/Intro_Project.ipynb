{
 "cells": [
  {
   "cell_type": "markdown",
   "metadata": {},
   "source": [
    "# Predictive Modeling on Cancer Data"
   ]
  },
  {
   "cell_type": "code",
   "execution_count": 1,
   "metadata": {
    "collapsed": true
   },
   "outputs": [],
   "source": [
    "import numpy as np \n",
    "import pandas as pd \n",
    "import matplotlib.pyplot as plt "
   ]
  },
  {
   "cell_type": "code",
   "execution_count": 180,
   "metadata": {
    "collapsed": true
   },
   "outputs": [],
   "source": [
    "cancer = pd.read_csv(\"Breast Invasive Carcinoma (TCGA, Provisional).csv\")"
   ]
  },
  {
   "cell_type": "code",
   "execution_count": 143,
   "metadata": {
    "collapsed": false
   },
   "outputs": [
    {
     "data": {
      "text/plain": [
       "'NOT HISPANIC OR LATINO'"
      ]
     },
     "execution_count": 143,
     "metadata": {},
     "output_type": "execute_result"
    }
   ],
   "source": [
    "cancer['ETHNICITY'].value_counts().index[0]"
   ]
  },
  {
   "cell_type": "code",
   "execution_count": 181,
   "metadata": {
    "collapsed": true
   },
   "outputs": [],
   "source": [
    "target_threshold = 30\n",
    "cancer[\"survival\"] = \"\""
   ]
  },
  {
   "cell_type": "code",
   "execution_count": 182,
   "metadata": {
    "collapsed": false
   },
   "outputs": [],
   "source": [
    "def setup_target_variable(df, target_column, new_column, threshold):\n",
    "    '''Changes the target variable values based on the threshold'''\n",
    "\n",
    "    #df.loc[df[target_column].values > threshold, new_column] = 0    # 1 - above the threshold\n",
    "    #df.loc[(df[target_column].values <= threshold) & (df['OS STATUS'] == 'DECEASED'), new_column] = 1   # 0 - below the threshold\n",
    "    #df= df[~((df['OS STATUS'] == 'LIVING') & (df[target_column] <= threshold))]\n",
    "    df[new_column] = np.logical_and(df['OS STATUS'] == 'DECEASED', df[target_column] <= threshold)\n",
    "    \n",
    "    return df "
   ]
  },
  {
   "cell_type": "code",
   "execution_count": 183,
   "metadata": {
    "collapsed": false
   },
   "outputs": [],
   "source": [
    "cancer = setup_target_variable(cancer, 'OS MONTHS', 'survival', target_threshold)"
   ]
  },
  {
   "cell_type": "code",
   "execution_count": 184,
   "metadata": {
    "collapsed": false
   },
   "outputs": [
    {
     "name": "stdout",
     "output_type": "stream",
     "text": [
      "False    1063\n",
      "True       42\n",
      "dtype: int64\n"
     ]
    }
   ],
   "source": [
    "print cancer.survival.value_counts()"
   ]
  },
  {
   "cell_type": "code",
   "execution_count": 185,
   "metadata": {
    "collapsed": false
   },
   "outputs": [],
   "source": [
    "features_chosen_by_domain_knowledge = ['AGE', 'AJCC METASTASIS PATHOLOGIC PM', 'AJCC NODES PATHOLOGIC PN', 'AJCC PATHOLOGIC TUMOR STAGE', 'AJCC TUMOR PATHOLOGIC PT', 'ETHNICITY', 'GENDER', 'CNA', 'INITIAL WEIGHT', 'HISTORY NEOADJUVANT TRTYN', 'HISTORY OTHER MALIGNANCY', 'LYMPH NODES EXAMINED', 'Mutation Count','ICD 10', 'ICD O 3 HISTOLOGY', 'ICD O 3 SITE']"
   ]
  },
  {
   "cell_type": "code",
   "execution_count": 187,
   "metadata": {
    "collapsed": true
   },
   "outputs": [],
   "source": [
    "def convert_categorical_to_int(df, column_name):\n",
    "\t'''Convert categorical values into integers'''\t\n",
    "\n",
    "\tcategorical_values = df[column_name].value_counts().index.tolist()\n",
    "\tassigned_value = 0\n",
    "\tfor value in categorical_values:\n",
    "\t\tdf.loc[df[column_name] == value, column_name] = assigned_value\n",
    "\t\tassigned_value += 1\n",
    "\n",
    "\treturn df\n",
    "\n",
    "def handle_categorical_variables(df, list_of_columns):\n",
    "    '''Converts the categorical variables in the list of columns to integers'''\n",
    "    \n",
    "    for column in list_of_columns:\n",
    "        df = convert_categorical_to_int(df, column)\n",
    "    \n",
    "    return df"
   ]
  },
  {
   "cell_type": "code",
   "execution_count": 188,
   "metadata": {
    "collapsed": false
   },
   "outputs": [],
   "source": [
    "\n",
    "cancer = handle_categorical_variables(cancer, ['AJCC METASTASIS PATHOLOGIC PM', 'AJCC NODES PATHOLOGIC PN', 'AJCC PATHOLOGIC TUMOR STAGE', 'AJCC TUMOR PATHOLOGIC PT', 'ETHNICITY', 'GENDER', 'HISTORY NEOADJUVANT TRTYN', 'HISTORY OTHER MALIGNANCY', 'ICD 10', 'ICD O 3 HISTOLOGY', 'ICD O 3 SITE'])\n"
   ]
  },
  {
   "cell_type": "code",
   "execution_count": 196,
   "metadata": {
    "collapsed": false
   },
   "outputs": [
    {
     "name": "stdout",
     "output_type": "stream",
     "text": [
      "58.0\n"
     ]
    }
   ],
   "source": [
    "print cancer['AGE'].median()"
   ]
  },
  {
   "cell_type": "code",
   "execution_count": 197,
   "metadata": {
    "collapsed": true
   },
   "outputs": [],
   "source": [
    "def handle_na(df):\n",
    "    '''Handle the NaN fields'''\n",
    "\n",
    "    df['AGE'].fillna(df['AGE'].mean(), inplace = True)\n",
    "    df['Mutation Count'].fillna(df['Mutation Count'].median(), inplace = True)\n",
    "    df['CNA'].fillna(df['CNA'].mean(), inplace = True)\n",
    "    df['LYMPH NODES EXAMINED'].fillna(df['LYMPH NODES EXAMINED'].mean(), inplace = True)\n",
    "    df['INITIAL WEIGHT'].fillna(df['INITIAL WEIGHT'].mean(), inplace = True)\n",
    "    df['AJCC METASTASIS PATHOLOGIC PM'].fillna(df['AJCC METASTASIS PATHOLOGIC PM'].value_counts().index[0], inplace = True)\n",
    "    df['AJCC NODES PATHOLOGIC PN'].fillna(df['AJCC NODES PATHOLOGIC PN'].value_counts().index[0], inplace = True)\n",
    "    df['AJCC PATHOLOGIC TUMOR STAGE'].fillna(df['AJCC PATHOLOGIC TUMOR STAGE'].value_counts().index[0], inplace = True)\n",
    "    df['AJCC TUMOR PATHOLOGIC PT'].fillna(df['AJCC TUMOR PATHOLOGIC PT'].value_counts().index[0], inplace = True)\n",
    "    df['ETHNICITY'].fillna(df['ETHNICITY'].value_counts().index[0], inplace = True)\n",
    "    df['GENDER'].fillna(df['GENDER'].value_counts().index[0], inplace = True)\n",
    "    df['HISTORY NEOADJUVANT TRTYN'].fillna(df['HISTORY NEOADJUVANT TRTYN'].value_counts().index[0], inplace = True)\n",
    "    df['HISTORY OTHER MALIGNANCY'].fillna(df['HISTORY OTHER MALIGNANCY'].value_counts().index[0], inplace = True)\n",
    "    df['ICD 10'].fillna(df['ICD 10'].value_counts().index[0], inplace = True)\n",
    "    df['ICD O 3 HISTOLOGY'].fillna(df['ICD O 3 HISTOLOGY'].value_counts().index[0], inplace = True)\n",
    "    df['ICD O 3 SITE'].fillna(df['ICD O 3 SITE'].value_counts().index[0], inplace = True)\n",
    "    \n",
    "    return df "
   ]
  },
  {
   "cell_type": "code",
   "execution_count": 202,
   "metadata": {
    "collapsed": false
   },
   "outputs": [
    {
     "name": "stdout",
     "output_type": "stream",
     "text": [
      "0.296227235984\n"
     ]
    }
   ],
   "source": [
    "print cancer['CNA'].mean()"
   ]
  },
  {
   "cell_type": "code",
   "execution_count": 199,
   "metadata": {
    "collapsed": false
   },
   "outputs": [
    {
     "name": "stdout",
     "output_type": "stream",
     "text": [
      "Shape(Before removing NaN):  (1105, 59)\n",
      "Shape(After removing NaN):  (1006, 59)\n"
     ]
    }
   ],
   "source": [
    "cancer = handle_na(cancer)\n",
    "\n",
    "print \"Shape(Before removing NaN): \", cancer.shape\n",
    "cancer_without_nan = cancer.dropna(subset = ['OS MONTHS'])\n",
    "print \"Shape(After removing NaN): \", cancer_without_nan.shape\n",
    "\n",
    "#cancer_without_nan = cancer_without_nan.convert_objects(convert_dates=False, convert_numeric=True, convert_timedeltas=False, copy=True)"
   ]
  },
  {
   "cell_type": "code",
   "execution_count": 155,
   "metadata": {
    "collapsed": false
   },
   "outputs": [
    {
     "data": {
      "text/plain": [
       "0    962\n",
       "1     36\n",
       "2      7\n",
       "3      1\n",
       "dtype: int64"
      ]
     },
     "execution_count": 155,
     "metadata": {},
     "output_type": "execute_result"
    }
   ],
   "source": [
    "cancer_without_nan['ETHNICITY'].value_counts()"
   ]
  },
  {
   "cell_type": "code",
   "execution_count": 19,
   "metadata": {
    "collapsed": false
   },
   "outputs": [
    {
     "data": {
      "text/plain": [
       "array([0, 1], dtype=object)"
      ]
     },
     "execution_count": 19,
     "metadata": {},
     "output_type": "execute_result"
    }
   ],
   "source": [
    "np.unique(cancer_without_nan.survival)"
   ]
  },
  {
   "cell_type": "code",
   "execution_count": 225,
   "metadata": {
    "collapsed": true
   },
   "outputs": [],
   "source": [
    "from sklearn.tree import DecisionTreeClassifier\n",
    "from sklearn.linear_model import LogisticRegression\n",
    "from sklearn.svm import SVC\n",
    "from sklearn.ensemble import RandomForestClassifier\n",
    "from sklearn.cross_validation import cross_val_score, train_test_split\n",
    "from sklearn.metrics import roc_auc_score\n",
    "from sklearn import grid_search\n",
    "import matplotlib.pyplot as plt\n",
    "%matplotlib inline"
   ]
  },
  {
   "cell_type": "code",
   "execution_count": 256,
   "metadata": {
    "collapsed": false
   },
   "outputs": [],
   "source": [
    "def decision_tree_model_with_cv(training_data, target_data, k, leaf, split):\n",
    "    decision_tree = DecisionTreeClassifier(criterion = 'entropy', min_samples_split = split, min_samples_leaf = leaf)\n",
    "    cv_score_auc = cross_val_score(decision_tree, training_data, target_data, scoring = 'roc_auc', cv=k)\n",
    "    cv_score_f1 = cross_val_score(decision_tree, training_data, target_data, scoring = 'f1', cv=k)\n",
    "    cv_score_precision = cross_val_score(decision_tree, training_data, target_data, scoring = 'precision', cv=k)\n",
    "    \n",
    "    #plt.plot(range(len(cv_score_auc)), cv_score_auc, 'r', label = 'DT (Mean: %.2f)' % (cv_score_auc.mean()))\n",
    "    \n",
    "    return cv_score_auc.mean(), cv_score_auc.std(), cv_score_f1.mean(), cv_score_precision.mean()"
   ]
  },
  {
   "cell_type": "code",
   "execution_count": 257,
   "metadata": {
    "collapsed": true
   },
   "outputs": [],
   "source": [
    "def logistic_regression_model_with_cv(training_data, target_data, k, c):\n",
    "    lr = LogisticRegression(C=c)\n",
    "    cv_score_auc = cross_val_score(lr, training_data, target_data, scoring = 'roc_auc', cv=k)\n",
    "    cv_score_f1 = cross_val_score(lr, training_data, target_data, scoring = 'f1', cv=k)\n",
    "    cv_score_precision = cross_val_score(lr, training_data, target_data, scoring = 'precision', cv=k)\n",
    "    \n",
    "    #plt.plot(range(len(cv_score_auc)), cv_score_auc, 'g', label = 'LR (Mean: %.2f)' % (cv_score_auc.mean()))\n",
    "    \n",
    "    return cv_score_auc.mean(), cv_score_auc.std(), cv_score_f1.mean(), cv_score_precision.mean()"
   ]
  },
  {
   "cell_type": "code",
   "execution_count": 258,
   "metadata": {
    "collapsed": true
   },
   "outputs": [],
   "source": [
    "def svm_model_with_cv(training_data, target_data, k, c):\n",
    "    svm = SVC(C=c)\n",
    "    cv_score_auc = cross_val_score(svm, training_data, target_data, scoring = 'roc_auc', cv=k)\n",
    "    cv_score_f1 = cross_val_score(svm, training_data, target_data, scoring = 'f1', cv=k)\n",
    "    cv_score_precision = cross_val_score(svm, training_data, target_data, scoring = 'precision', cv=k)\n",
    "    \n",
    "    #plt.plot(range(len(cv_score_auc)), cv_score_auc, 'b', label = 'SVM (Mean: %.2f)' % (cv_score_auc.mean()))\n",
    "    \n",
    "    return cv_score_auc.mean(), cv_score_auc.std(), cv_score_f1.mean(), cv_score_precision.mean()"
   ]
  },
  {
   "cell_type": "code",
   "execution_count": 259,
   "metadata": {
    "collapsed": true
   },
   "outputs": [],
   "source": [
    "def rf_model_with_cv(training_data, target_data, k, n_est):\n",
    "    rf = RandomForestClassifier(n_estimators = n_est, criterion = \"entropy\")\n",
    "    cv_score_auc = cross_val_score(rf, training_data, target_data.astype(int), scoring = 'roc_auc', cv=k)\n",
    "    cv_score_f1 = cross_val_score(rf, training_data, target_data.astype(int), scoring = 'f1', cv=k)\n",
    "    cv_score_precision = cross_val_score(rf, training_data, target_data.astype(int), scoring = 'precision', cv=k)\n",
    "    \n",
    "    #plt.plot(range(len(cv_score_auc)), cv_score_auc, 'c', label = 'RF (Mean: %.2f)' % (cv_score_auc.mean()))\n",
    "    \n",
    "    return cv_score_auc.mean(), cv_score_auc.std(), cv_score_f1.mean(), cv_score_precision.mean()"
   ]
  },
  {
   "cell_type": "code",
   "execution_count": 205,
   "metadata": {
    "collapsed": false
   },
   "outputs": [
    {
     "name": "stdout",
     "output_type": "stream",
     "text": [
      "(804, 16)\n",
      "(202, 16)\n",
      "(804,)\n",
      "(202,)\n"
     ]
    }
   ],
   "source": [
    "# Setting up the data for finding optimal hyperparameters\n",
    "\n",
    "final_features = features_chosen_by_domain_knowledge + ['survival']\n",
    "cancer_without_nan = cancer_without_nan[final_features]\n",
    "\n",
    "dead_people = cancer_without_nan[cancer_without_nan['survival'] == True]\n",
    "alive_people = cancer_without_nan[cancer_without_nan['survival'] == False]\n",
    "\n",
    "dead_train, dead_test = train_test_split(dead_people, train_size = 0.8)\n",
    "alive_train, alive_test = train_test_split(alive_people, train_size = 0.8)\n",
    "\n",
    "training = pd.concat([dead_train, alive_train])\n",
    "test = pd.concat([dead_test, alive_test])\n",
    "\n",
    "cancer_training = training.drop('survival', 1)\n",
    "cancer_testing = test.drop('survival', 1)\n",
    "survival_training = training['survival']\n",
    "survival_testing = test['survival']\n",
    "\n",
    "print cancer_training.shape\n",
    "print cancer_testing.shape\n",
    "print survival_training.shape\n",
    "print survival_testing.shape"
   ]
  },
  {
   "cell_type": "code",
   "execution_count": 124,
   "metadata": {
    "collapsed": false
   },
   "outputs": [
    {
     "data": {
      "text/plain": [
       "0      148\n",
       "800     46\n",
       "1        7\n",
       "2        1\n",
       "dtype: int64"
      ]
     },
     "execution_count": 124,
     "metadata": {},
     "output_type": "execute_result"
    }
   ],
   "source": [
    "cancer_testing['ETHNICITY'].value_counts()"
   ]
  },
  {
   "cell_type": "code",
   "execution_count": 244,
   "metadata": {
    "collapsed": false,
    "scrolled": true
   },
   "outputs": [
    {
     "name": "stdout",
     "output_type": "stream",
     "text": [
      "(AUC, F-Score, Precision)\n",
      "Decision Tree:  (0.57285839160839158, 0.068571428571428575, 0.083333333333333329)\n",
      "Logistic Regression:  (0.66222943722943728, 0.0, 0.0)\n",
      "SVM:  (0.62466699966699957, 0.0, 0.0)\n",
      "Random Forest:  (0.67797619047619051, 0.080000000000000002, 0.050000000000000003)\n"
     ]
    },
    {
     "data": {
      "image/png": "[encoded data removed]",
      "text/plain": [
       "<matplotlib.figure.Figure at 0xa75a1fac>"
      ]
     },
     "metadata": {},
     "output_type": "display_data"
    }
   ],
   "source": [
    "dt_with_cv = decision_tree_model_with_cv(cancer_training, survival_training, 10, 2, 1)\n",
    "lr_with_cv = logistic_regression_model_with_cv(cancer_training, survival_training, 10, 1.0)\n",
    "svm_with_cv = svm_model_with_cv(cancer_training, survival_training, 10, 1.0)\n",
    "rf_with_cv = rf_model_with_cv(cancer_training, survival_training, 10, 10)\n",
    "\n",
    "plt.xlabel(\"Folds (Cross Vaidation)\")\n",
    "plt.ylabel(\"AUC\")\n",
    "plt.title('AUC Values During Cross-Validation (Default Hyperparameters)')\n",
    "plt.legend(loc = 'lower right')\n",
    "\n",
    "print \"(AUC, F-Score, Precision)\"\n",
    "print \"Decision Tree: \", dt_with_cv\n",
    "print \"Logistic Regression: \", lr_with_cv\n",
    "print \"SVM: \", svm_with_cv\n",
    "print \"Random Forest: \", rf_with_cv"
   ]
  },
  {
   "cell_type": "code",
   "execution_count": 13,
   "metadata": {
    "collapsed": true
   },
   "outputs": [],
   "source": [
    "# Decision Tree Model Hyperparameters\n",
    "class DT_HyperParam:\n",
    "    \n",
    "    def __init__(self, max_depth, min_samples_split, min_samples_leaf, max_features):\n",
    "        self.max_depth = max_depth\n",
    "        self.min_samples_split = min_samples_split\n",
    "        self.min_samples_leaf = min_samples_leaf\n",
    "        self.max_features = max_features\n",
    "        \n",
    "    def get_max_depth(self):\n",
    "        return self.max_depth\n",
    "    \n",
    "    def get_min_samples_split(self):\n",
    "        return self.min_samples_split\n",
    "    \n",
    "    def get_min_samples_leaf(self):\n",
    "        return self.min_samples_leaf\n",
    "    \n",
    "    def get_max_features(self):\n",
    "        return self.max_features"
   ]
  },
  {
   "cell_type": "code",
   "execution_count": 262,
   "metadata": {
    "collapsed": false
   },
   "outputs": [
    {
     "data": {
      "text/plain": [
       "<matplotlib.text.Text at 0xa75f770c>"
      ]
     },
     "execution_count": 262,
     "metadata": {},
     "output_type": "execute_result"
    },
    {
     "data": {
      "image/png": "[encoded data removed]",
      "text/plain": [
       "<matplotlib.figure.Figure at 0xa799c9cc>"
      ]
     },
     "metadata": {},
     "output_type": "display_data"
    }
   ],
   "source": [
    "# Searching optimal hyperparameters for SVM\n",
    "powers = np.arange(-4, 4, 0.5)\n",
    "cs = [10**exp for exp in powers]\n",
    "cv_auc_svm_mean = []\n",
    "cv_auc_svm_std = []\n",
    "\n",
    "for C in cs:\n",
    "    cv_auc_svm = svm_model_with_cv(cancer_training, survival_training, 10, C)\n",
    "    cv_auc_svm_mean.append(cv_auc_svm[0])\n",
    "    cv_auc_svm_std.append(cv_auc_svm[1])\n",
    "    \n",
    "plt.plot(np.log10(cs), cv_auc_svm_mean, 'g', label = \"Max = %.2f\" % (max(cv_auc_svm_mean)))\n",
    "plt.plot(np.log10(cs), [x + y for (x, y) in zip(cv_auc_svm_mean, cv_auc_svm_std)], 'b', label = 'Mean + SD')\n",
    "plt.plot(np.log10(cs), [x - y for (x, y) in zip(cv_auc_svm_mean, cv_auc_svm_std)], 'r', label = 'Mean - SD')\n",
    "plt.xlabel(\"log10(C)\")\n",
    "plt.ylabel(\"Mean AUC (10-Fold CV)\")\n",
    "plt.legend(loc = 'lower right')\n",
    "plt.title(\"SVM - Mean AUC for Different Values of C\")"
   ]
  },
  {
   "cell_type": "code",
   "execution_count": 263,
   "metadata": {
    "collapsed": false
   },
   "outputs": [
    {
     "data": {
      "image/png": "[encoded data removed]",
      "text/plain": [
       "<matplotlib.figure.Figure at 0xa7611a6c>"
      ]
     },
     "metadata": {},
     "output_type": "display_data"
    }
   ],
   "source": [
    "plt.plot(np.log10(cs), cv_auc_svm_mean, 'g', label = \"Max = %.2f\" % (max(cv_auc_svm_mean)))\n",
    "plt.plot(np.log10(cs), [x + y for (x, y) in zip(cv_auc_svm_mean, cv_auc_svm_std)], 'b', label = 'Mean + SD')\n",
    "plt.plot(np.log10(cs), [x - y for (x, y) in zip(cv_auc_svm_mean, cv_auc_svm_std)], 'r', label = 'Mean - SD')\n",
    "plt.xlabel(\"log10(C)\")\n",
    "plt.ylabel(\"Mean AUC (10-Fold CV)\")\n",
    "plt.legend(loc = 'lower right')\n",
    "plt.title(\"SVM - Mean AUC for Different Values of C\")\n",
    "plt.savefig('svm_optimal_C.png')"
   ]
  },
  {
   "cell_type": "code",
   "execution_count": null,
   "metadata": {
    "collapsed": true
   },
   "outputs": [],
   "source": []
  }
 ],
 "metadata": {
  "kernelspec": {
   "display_name": "Python 2",
   "language": "python",
   "name": "python2"
  },
  "language_info": {
   "codemirror_mode": {
    "name": "ipython",
    "version": 2
   },
   "file_extension": ".py",
   "mimetype": "text/x-python",
   "name": "python",
   "nbconvert_exporter": "python",
   "pygments_lexer": "ipython2",
   "version": "2.7.10"
  }
 },
 "nbformat": 4,
 "nbformat_minor": 0
}
